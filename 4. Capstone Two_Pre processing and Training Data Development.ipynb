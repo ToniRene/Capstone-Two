{
 "cells": [
  {
   "cell_type": "markdown",
   "id": "da2e11b5-d3bd-4907-9b02-4bf0bcbeeafa",
   "metadata": {},
   "source": [
    "**Import Packages & Data**"
   ]
  },
  {
   "cell_type": "code",
   "execution_count": 14,
   "id": "191187ba-3b0e-4ee4-85b2-ea58b5f1609f",
   "metadata": {},
   "outputs": [],
   "source": [
    "import pandas as pd\n",
    "from sklearn.preprocessing import StandardScaler\n",
    "from sklearn.model_selection import train_test_split\n"
   ]
  },
  {
   "cell_type": "code",
   "execution_count": 8,
   "id": "3e29bc31-c045-475d-887b-9efa3d39cdbd",
   "metadata": {},
   "outputs": [],
   "source": [
    "#Import CSV File of Cleaned Data: Test Scores\n",
    "df = pd.read_csv('joined_df_cleaned.csv')\n"
   ]
  },
  {
   "cell_type": "markdown",
   "id": "b4007027-ba67-49ba-8f34-5eb27340c72b",
   "metadata": {},
   "source": [
    "**Create Dummy Features**"
   ]
  },
  {
   "cell_type": "code",
   "execution_count": 9,
   "id": "a3fb45e0-58e5-45fe-8f84-67d6547ed491",
   "metadata": {},
   "outputs": [
    {
     "name": "stdout",
     "output_type": "stream",
     "text": [
      "   Average Math Score  ELL_x  White_x  Black_x  Hispanic_x  Low SES_x  Male_x  \\\n",
      "0               236.0  216.0    246.0    217.0       224.0      223.0   239.0   \n",
      "1               230.0  216.0    240.0    213.0       222.0      218.0   233.0   \n",
      "2               226.0  204.0    242.0      NaN       228.0      213.0   224.0   \n",
      "3               232.0  197.0    247.0    215.0       221.0      218.0   235.0   \n",
      "4               228.0  205.0    236.0    207.0       219.0      221.0   230.0   \n",
      "\n",
      "   Female_x  ESE_x  Average Reading Score  ELL_y  White_y  Black_y  \\\n",
      "0     233.0  212.0                    217  190.0      227    199.0   \n",
      "1     228.0  211.0                    213  196.0      224    197.0   \n",
      "2     228.0  201.0                    204  187.0      220      NaN   \n",
      "3     229.0  206.0                    215  164.0      229    205.0   \n",
      "4     227.0  199.0                    212  174.0      221    188.0   \n",
      "\n",
      "   Hispanic_y  Low SES_y  Male_y  Female_y  ESE_y  \n",
      "0       205.0        203     214       221    183  \n",
      "1       204.0        201     208       218    178  \n",
      "2       214.0        188     197       210    165  \n",
      "3       205.0        201     213       218    182  \n",
      "4       201.0        200     208       217    172  \n"
     ]
    }
   ],
   "source": [
    "\n",
    "# Identify categorical columns (replace with actual columns from your DataFrame)\n",
    "categorical_cols = ['Jurisdiction']  # Add other categorical columns as needed\n",
    "\n",
    "# Create dummy variables\n",
    "dummy_df = pd.get_dummies(df[categorical_cols])\n",
    "\n",
    "# Concatenate dummy variables with original DataFrame\n",
    "df = pd.concat([df, dummy_df], axis=1)\n",
    "\n",
    "# Drop the original categorical columns if needed\n",
    "df.drop(categorical_cols, axis=1, inplace=True)\n",
    "\n",
    "# Display the updated DataFrame\n",
    "print(df.head())"
   ]
  },
  {
   "cell_type": "markdown",
   "id": "1f2fce42-7ee1-4bd0-b377-781f872f3a4c",
   "metadata": {},
   "source": [
    "**Standardize the magnitude of numeric features using a scaler**"
   ]
  },
  {
   "cell_type": "code",
   "execution_count": 12,
   "id": "f3c86b18-1583-4df8-a405-e7814a8690f9",
   "metadata": {},
   "outputs": [
    {
     "name": "stdout",
     "output_type": "stream",
     "text": [
      "   Average Math Score     ELL_x   White_x   Black_x  Hispanic_x  Low SES_x  \\\n",
      "0            0.279402  0.430210  0.509269  0.424220    0.149285   0.237934   \n",
      "1           -0.924781  0.430210 -0.628222 -0.234763   -0.184002  -0.826508   \n",
      "2           -1.727570 -1.040326 -0.249059       NaN    0.815859  -1.890950   \n",
      "3           -0.523387 -1.898139  0.698851  0.094729   -0.350646  -0.826508   \n",
      "4           -1.326176 -0.917781 -1.386550 -1.223238   -0.683933  -0.187843   \n",
      "\n",
      "     Male_x  Female_x     ESE_x  Average Reading Score     ELL_y   White_y  \\\n",
      "0  0.369522  0.166577  0.411312               0.249935  0.342933  0.371738   \n",
      "1 -0.739043 -0.895352  0.248700              -0.546733  1.005310 -0.159813   \n",
      "2 -2.401890 -0.895352 -1.377418              -2.339237  0.011744 -0.868548   \n",
      "3 -0.369522 -0.682966 -0.564359              -0.148399 -2.527368  0.726106   \n",
      "4 -1.293325 -1.107737 -1.702641              -0.745900 -1.423406 -0.691364   \n",
      "\n",
      "   Black_y  Hispanic_y  Low SES_y    Male_y  Female_y     ESE_y  \n",
      "0  0.43750    0.195731   0.300629  0.283077  0.373847  0.421120  \n",
      "1  0.12500    0.041713  -0.082673 -0.827457 -0.241192 -0.210560  \n",
      "2      NaN    1.581892  -2.574133 -2.863436 -1.881294 -1.852927  \n",
      "3  1.37500    0.195731  -0.082673  0.097988 -0.241192  0.294784  \n",
      "4 -1.28125   -0.420341  -0.274324 -0.827457 -0.446204 -0.968576  \n"
     ]
    }
   ],
   "source": [
    "# Identify numeric columns (assuming all except categorical columns)\n",
    "numeric_cols = df.select_dtypes(include=['float64', 'int64']).columns\n",
    "\n",
    "# Initialize StandardScaler\n",
    "scaler = StandardScaler()\n",
    "\n",
    "# Fit and transform the numeric data\n",
    "df[numeric_cols] = scaler.fit_transform(df[numeric_cols])\n",
    "\n",
    "# Display the updated DataFrame with standardized values\n",
    "print(df.head())"
   ]
  },
  {
   "cell_type": "markdown",
   "id": "3d41396a-2e74-4ba9-8e64-8da6447d5729",
   "metadata": {},
   "source": [
    "**Split into testing and training datasets**"
   ]
  },
  {
   "cell_type": "code",
   "execution_count": 18,
   "id": "21108f7a-9ce3-4e9c-8b37-753e75d54251",
   "metadata": {},
   "outputs": [
    {
     "name": "stdout",
     "output_type": "stream",
     "text": [
      "X_train shape: (35, 16), y_train shape: (35, 2)\n",
      "X_test shape: (16, 16), y_test shape: (16, 2)\n"
     ]
    }
   ],
   "source": [
    "# Define features (X) and target (y)\n",
    "features = ['ELL_x', 'White_x', 'Black_x', 'Hispanic_x', 'Low SES_x', 'Male_x', 'Female_x', 'ESE_x',\n",
    "            'ELL_y', 'White_y', 'Black_y', 'Hispanic_y', 'Low SES_y', 'Male_y', 'Female_y', 'ESE_y']\n",
    "X = df[features]  # Features\n",
    "y = df[['Average Math Score', 'Average Reading Score']]  # Target variables\n",
    "\n",
    "# Split the data into training and testing sets\n",
    "X_train, X_test, y_train, y_test = train_test_split(X, y, test_size=0.3, random_state=42)\n",
    "\n",
    "# Review the dimensions of the datasets\n",
    "print(f\"X_train shape: {X_train.shape}, y_train shape: {y_train.shape}\")\n",
    "print(f\"X_test shape: {X_test.shape}, y_test shape: {y_test.shape}\")"
   ]
  },
  {
   "cell_type": "code",
   "execution_count": null,
   "id": "071f80bf-57b7-4be2-88a2-6048d6b6ca57",
   "metadata": {},
   "outputs": [],
   "source": []
  }
 ],
 "metadata": {
  "kernelspec": {
   "display_name": "Python 3 (ipykernel)",
   "language": "python",
   "name": "python3"
  },
  "language_info": {
   "codemirror_mode": {
    "name": "ipython",
    "version": 3
   },
   "file_extension": ".py",
   "mimetype": "text/x-python",
   "name": "python",
   "nbconvert_exporter": "python",
   "pygments_lexer": "ipython3",
   "version": "3.11.7"
  }
 },
 "nbformat": 4,
 "nbformat_minor": 5
}
