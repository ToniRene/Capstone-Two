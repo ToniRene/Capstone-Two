{
 "cells": [
  {
   "cell_type": "markdown",
   "id": "da2e11b5-d3bd-4907-9b02-4bf0bcbeeafa",
   "metadata": {},
   "source": [
    "**Import Packages & Data**"
   ]
  },
  {
   "cell_type": "code",
   "execution_count": 4,
   "id": "191187ba-3b0e-4ee4-85b2-ea58b5f1609f",
   "metadata": {},
   "outputs": [],
   "source": [
    "import pandas as pd\n",
    "from sklearn.preprocessing import StandardScaler\n",
    "from sklearn.model_selection import train_test_split\n"
   ]
  },
  {
   "cell_type": "code",
   "execution_count": 5,
   "id": "3e29bc31-c045-475d-887b-9efa3d39cdbd",
   "metadata": {},
   "outputs": [],
   "source": [
    "#Import CSV File of Cleaned Data: Test Scores\n",
    "df = pd.read_csv('joined_df_cleaned.csv')\n"
   ]
  },
  {
   "cell_type": "markdown",
   "id": "b4007027-ba67-49ba-8f34-5eb27340c72b",
   "metadata": {},
   "source": [
    "**Create Dummy Features**"
   ]
  },
  {
   "cell_type": "code",
   "execution_count": 9,
   "id": "a3fb45e0-58e5-45fe-8f84-67d6547ed491",
   "metadata": {},
   "outputs": [
    {
     "name": "stdout",
     "output_type": "stream",
     "text": [
      "   Average Math Score  ELL_x  White_x  Black_x  Hispanic_x  Low SES_x  Male_x  \\\n",
      "0               236.0  216.0    246.0    217.0       224.0      223.0   239.0   \n",
      "1               230.0  216.0    240.0    213.0       222.0      218.0   233.0   \n",
      "2               226.0  204.0    242.0      NaN       228.0      213.0   224.0   \n",
      "3               232.0  197.0    247.0    215.0       221.0      218.0   235.0   \n",
      "4               228.0  205.0    236.0    207.0       219.0      221.0   230.0   \n",
      "\n",
      "   Female_x  ESE_x  Average Reading Score  ELL_y  White_y  Black_y  \\\n",
      "0     233.0  212.0                    217  190.0      227    199.0   \n",
      "1     228.0  211.0                    213  196.0      224    197.0   \n",
      "2     228.0  201.0                    204  187.0      220      NaN   \n",
      "3     229.0  206.0                    215  164.0      229    205.0   \n",
      "4     227.0  199.0                    212  174.0      221    188.0   \n",
      "\n",
      "   Hispanic_y  Low SES_y  Male_y  Female_y  ESE_y  \n",
      "0       205.0        203     214       221    183  \n",
      "1       204.0        201     208       218    178  \n",
      "2       214.0        188     197       210    165  \n",
      "3       205.0        201     213       218    182  \n",
      "4       201.0        200     208       217    172  \n"
     ]
    }
   ],
   "source": [
    "\n",
    "# Identify categorical columns (replace with actual columns from your DataFrame)\n",
    "categorical_cols = ['Jurisdiction']  # Add other categorical columns as needed\n",
    "\n",
    "# Create dummy variables\n",
    "dummy_df = pd.get_dummies(df[categorical_cols])\n",
    "\n",
    "# Concatenate dummy variables with original DataFrame\n",
    "df = pd.concat([df, dummy_df], axis=1)\n",
    "\n",
    "# Drop the original categorical columns if needed\n",
    "df.drop(categorical_cols, axis=1, inplace=True)\n",
    "\n",
    "# Display the updated DataFrame\n",
    "print(df.head())"
   ]
  },
  {
   "cell_type": "markdown",
   "id": "1f2fce42-7ee1-4bd0-b377-781f872f3a4c",
   "metadata": {},
   "source": [
    "**Standardize the magnitude of numeric features using a scaler**"
   ]
  },
  {
   "cell_type": "code",
   "execution_count": 28,
   "id": "f3c86b18-1583-4df8-a405-e7814a8690f9",
   "metadata": {},
   "outputs": [
    {
     "name": "stdout",
     "output_type": "stream",
     "text": [
      "   Average Math Score     ELL_x   White_x       Black_x  Hispanic_x  \\\n",
      "0            0.279402  0.448143  0.509269  4.790124e-01    0.153879   \n",
      "1           -0.924781  0.448143 -0.628222 -2.650845e-01   -0.189665   \n",
      "2           -1.727570 -1.083692 -0.249059 -1.298127e-17    0.840968   \n",
      "3           -0.523387 -1.977262  0.698851  1.069639e-01   -0.361437   \n",
      "4           -1.326176 -0.956039 -1.386550 -1.381230e+00   -0.704982   \n",
      "\n",
      "   Low SES_x    Male_x  Female_x     ESE_x  Average Reading Score     ELL_y  \\\n",
      "0   0.237934  0.369522  0.166577  0.411312               0.249935  0.357228   \n",
      "1  -0.826508 -0.739043 -0.895352  0.248700              -0.546733  1.047216   \n",
      "2  -1.890950 -2.401890 -0.895352 -1.377418              -2.339237  0.012234   \n",
      "3  -0.826508 -0.369522 -0.682966 -0.564359              -0.148399 -2.632720   \n",
      "4  -0.187843 -1.293325 -1.107737 -1.702641              -0.745900 -1.482740   \n",
      "\n",
      "    White_y       Black_y  Hispanic_y  Low SES_y    Male_y  Female_y     ESE_y  \n",
      "0  0.371738  4.940071e-01    0.201755   0.300629  0.283077  0.373847  0.421120  \n",
      "1 -0.159813  1.411449e-01    0.042997  -0.082673 -0.827457 -0.241192 -0.210560  \n",
      "2 -0.868548 -8.707632e-18    1.630577  -2.574133 -2.863436 -1.881294 -1.852927  \n",
      "3  0.726106  1.552594e+00    0.201755  -0.082673  0.097988 -0.241192  0.294784  \n",
      "4 -0.691364 -1.446735e+00   -0.433277  -0.274324 -0.827457 -0.446204 -0.968576  \n"
     ]
    }
   ],
   "source": [
    "# Identify numeric columns (assuming all except categorical columns)\n",
    "numeric_cols = df.select_dtypes(include=['float64', 'int64']).columns\n",
    "\n",
    "# Initialize StandardScaler\n",
    "scaler = StandardScaler()\n",
    "\n",
    "# Fit and transform the numeric data\n",
    "df[numeric_cols] = scaler.fit_transform(df[numeric_cols])\n",
    "\n",
    "# Display the updated DataFrame with standardized values\n",
    "print(df.head())"
   ]
  },
  {
   "cell_type": "markdown",
   "id": "3d41396a-2e74-4ba9-8e64-8da6447d5729",
   "metadata": {},
   "source": [
    "**Split into testing and training datasets**"
   ]
  },
  {
   "cell_type": "code",
   "execution_count": 31,
   "id": "21108f7a-9ce3-4e9c-8b37-753e75d54251",
   "metadata": {},
   "outputs": [
    {
     "name": "stdout",
     "output_type": "stream",
     "text": [
      "X_train shape: (35, 8), y_train shape: (35,)\n",
      "X_test shape: (16, 8), y_test shape: (16,)\n"
     ]
    }
   ],
   "source": [
    "# Define features (X) and target (y)\n",
    "features_math = ['ELL_x', 'White_x', 'Black_x', 'Hispanic_x', 'Low SES_x', 'Male_x', 'Female_x', 'ESE_x']\n",
    "X = df[features_math]  # Features\n",
    "y = df['Average Math Score']  # Target variable\n",
    "\n",
    "# Split the data into training and testing sets\n",
    "X_train, X_test, y_train, y_test = train_test_split(X, y, test_size=0.3, random_state=42)\n",
    "\n",
    "# Review the dimensions of the datasets\n",
    "print(f\"X_train shape: {X_train.shape}, y_train shape: {y_train.shape}\")\n",
    "print(f\"X_test shape: {X_test.shape}, y_test shape: {y_test.shape}\")"
   ]
  },
  {
   "cell_type": "code",
   "execution_count": 33,
   "id": "071f80bf-57b7-4be2-88a2-6048d6b6ca57",
   "metadata": {},
   "outputs": [
    {
     "name": "stdout",
     "output_type": "stream",
     "text": [
      "X_train_reading shape: (35, 8), y_train_reading shape: (35,)\n",
      "X_test_reading shape: (16, 8), y_test_reading shape: (16,)\n"
     ]
    }
   ],
   "source": [
    "# Define features (X) and target (y) for Average Reading Score\n",
    "features_reading = ['ELL_y', 'White_y', 'Black_y', 'Hispanic_y', 'Low SES_y', 'Male_y', 'Female_y', 'ESE_y']\n",
    "X_reading = df[features_reading]  # Features for Average Reading Score\n",
    "y_reading = df['Average Reading Score']  # Target variable for Average Reading Score\n",
    "\n",
    "# Split the data into training and testing sets for Average Reading Score\n",
    "X_train_reading, X_test_reading, y_train_reading, y_test_reading = train_test_split(X_reading, y_reading, test_size=0.3, random_state=42)\n",
    "\n",
    "# Review the dimensions of the datasets for Average Reading Score\n",
    "print(f\"X_train_reading shape: {X_train_reading.shape}, y_train_reading shape: {y_train_reading.shape}\")\n",
    "print(f\"X_test_reading shape: {X_test_reading.shape}, y_test_reading shape: {y_test_reading.shape}\")\n"
   ]
  },
  {
   "cell_type": "code",
   "execution_count": 37,
   "id": "5b93867c-bd5d-4dd4-af5b-3ac436e14f71",
   "metadata": {},
   "outputs": [
    {
     "name": "stdout",
     "output_type": "stream",
     "text": [
      "Missing values in X_train:\n",
      "ELL_x         0\n",
      "White_x       0\n",
      "Black_x       0\n",
      "Hispanic_x    0\n",
      "Low SES_x     0\n",
      "Male_x        0\n",
      "Female_x      0\n",
      "ESE_x         0\n",
      "dtype: int64\n",
      "Missing values after imputation:\n",
      "ELL_x         0\n",
      "White_x       0\n",
      "Black_x       0\n",
      "Hispanic_x    0\n",
      "Low SES_x     0\n",
      "Male_x        0\n",
      "Female_x      0\n",
      "ESE_x         0\n",
      "dtype: int64\n"
     ]
    }
   ],
   "source": [
    "from sklearn.impute import SimpleImputer\n",
    "\n",
    "# Check for missing values\n",
    "print(\"Missing values in X_train:\")\n",
    "print(X_train.isnull().sum())\n",
    "\n",
    "# Initialize SimpleImputer\n",
    "imputer = SimpleImputer(strategy='mean')\n",
    "\n",
    "# Fit imputer on training data\n",
    "imputer.fit(X_train)\n",
    "\n",
    "# Transform both training and testing data\n",
    "X_train_imputed = imputer.transform(X_train)\n",
    "X_test_imputed = imputer.transform(X_test)\n",
    "\n",
    "# Convert back to DataFrame (if needed)\n",
    "X_train_imputed = pd.DataFrame(X_train_imputed, columns=X_train.columns)\n",
    "X_test_imputed = pd.DataFrame(X_test_imputed, columns=X_test.columns)\n",
    "\n",
    "# Check if there are still missing values\n",
    "print(\"Missing values after imputation:\")\n",
    "print(X_train_imputed.isnull().sum())\n"
   ]
  },
  {
   "cell_type": "markdown",
   "id": "bb21a92b-01d7-426c-9c7c-ff905cd31da1",
   "metadata": {},
   "source": [
    "## Linear Regression Model for Math Scores"
   ]
  },
  {
   "cell_type": "code",
   "execution_count": 39,
   "id": "a1017f1b-0cbe-482c-a192-6a532659dcb6",
   "metadata": {},
   "outputs": [
    {
     "data": {
      "text/html": [
       "<style>#sk-container-id-1 {color: black;background-color: white;}#sk-container-id-1 pre{padding: 0;}#sk-container-id-1 div.sk-toggleable {background-color: white;}#sk-container-id-1 label.sk-toggleable__label {cursor: pointer;display: block;width: 100%;margin-bottom: 0;padding: 0.3em;box-sizing: border-box;text-align: center;}#sk-container-id-1 label.sk-toggleable__label-arrow:before {content: \"▸\";float: left;margin-right: 0.25em;color: #696969;}#sk-container-id-1 label.sk-toggleable__label-arrow:hover:before {color: black;}#sk-container-id-1 div.sk-estimator:hover label.sk-toggleable__label-arrow:before {color: black;}#sk-container-id-1 div.sk-toggleable__content {max-height: 0;max-width: 0;overflow: hidden;text-align: left;background-color: #f0f8ff;}#sk-container-id-1 div.sk-toggleable__content pre {margin: 0.2em;color: black;border-radius: 0.25em;background-color: #f0f8ff;}#sk-container-id-1 input.sk-toggleable__control:checked~div.sk-toggleable__content {max-height: 200px;max-width: 100%;overflow: auto;}#sk-container-id-1 input.sk-toggleable__control:checked~label.sk-toggleable__label-arrow:before {content: \"▾\";}#sk-container-id-1 div.sk-estimator input.sk-toggleable__control:checked~label.sk-toggleable__label {background-color: #d4ebff;}#sk-container-id-1 div.sk-label input.sk-toggleable__control:checked~label.sk-toggleable__label {background-color: #d4ebff;}#sk-container-id-1 input.sk-hidden--visually {border: 0;clip: rect(1px 1px 1px 1px);clip: rect(1px, 1px, 1px, 1px);height: 1px;margin: -1px;overflow: hidden;padding: 0;position: absolute;width: 1px;}#sk-container-id-1 div.sk-estimator {font-family: monospace;background-color: #f0f8ff;border: 1px dotted black;border-radius: 0.25em;box-sizing: border-box;margin-bottom: 0.5em;}#sk-container-id-1 div.sk-estimator:hover {background-color: #d4ebff;}#sk-container-id-1 div.sk-parallel-item::after {content: \"\";width: 100%;border-bottom: 1px solid gray;flex-grow: 1;}#sk-container-id-1 div.sk-label:hover label.sk-toggleable__label {background-color: #d4ebff;}#sk-container-id-1 div.sk-serial::before {content: \"\";position: absolute;border-left: 1px solid gray;box-sizing: border-box;top: 0;bottom: 0;left: 50%;z-index: 0;}#sk-container-id-1 div.sk-serial {display: flex;flex-direction: column;align-items: center;background-color: white;padding-right: 0.2em;padding-left: 0.2em;position: relative;}#sk-container-id-1 div.sk-item {position: relative;z-index: 1;}#sk-container-id-1 div.sk-parallel {display: flex;align-items: stretch;justify-content: center;background-color: white;position: relative;}#sk-container-id-1 div.sk-item::before, #sk-container-id-1 div.sk-parallel-item::before {content: \"\";position: absolute;border-left: 1px solid gray;box-sizing: border-box;top: 0;bottom: 0;left: 50%;z-index: -1;}#sk-container-id-1 div.sk-parallel-item {display: flex;flex-direction: column;z-index: 1;position: relative;background-color: white;}#sk-container-id-1 div.sk-parallel-item:first-child::after {align-self: flex-end;width: 50%;}#sk-container-id-1 div.sk-parallel-item:last-child::after {align-self: flex-start;width: 50%;}#sk-container-id-1 div.sk-parallel-item:only-child::after {width: 0;}#sk-container-id-1 div.sk-dashed-wrapped {border: 1px dashed gray;margin: 0 0.4em 0.5em 0.4em;box-sizing: border-box;padding-bottom: 0.4em;background-color: white;}#sk-container-id-1 div.sk-label label {font-family: monospace;font-weight: bold;display: inline-block;line-height: 1.2em;}#sk-container-id-1 div.sk-label-container {text-align: center;}#sk-container-id-1 div.sk-container {/* jupyter's `normalize.less` sets `[hidden] { display: none; }` but bootstrap.min.css set `[hidden] { display: none !important; }` so we also need the `!important` here to be able to override the default hidden behavior on the sphinx rendered scikit-learn.org. See: https://github.com/scikit-learn/scikit-learn/issues/21755 */display: inline-block !important;position: relative;}#sk-container-id-1 div.sk-text-repr-fallback {display: none;}</style><div id=\"sk-container-id-1\" class=\"sk-top-container\"><div class=\"sk-text-repr-fallback\"><pre>LinearRegression()</pre><b>In a Jupyter environment, please rerun this cell to show the HTML representation or trust the notebook. <br />On GitHub, the HTML representation is unable to render, please try loading this page with nbviewer.org.</b></div><div class=\"sk-container\" hidden><div class=\"sk-item\"><div class=\"sk-estimator sk-toggleable\"><input class=\"sk-toggleable__control sk-hidden--visually\" id=\"sk-estimator-id-1\" type=\"checkbox\" checked><label for=\"sk-estimator-id-1\" class=\"sk-toggleable__label sk-toggleable__label-arrow\">LinearRegression</label><div class=\"sk-toggleable__content\"><pre>LinearRegression()</pre></div></div></div></div></div>"
      ],
      "text/plain": [
       "LinearRegression()"
      ]
     },
     "execution_count": 39,
     "metadata": {},
     "output_type": "execute_result"
    }
   ],
   "source": [
    "from sklearn.linear_model import LinearRegression\n",
    "from sklearn.metrics import mean_squared_error, r2_score\n",
    "\n",
    "# Initialize Linear Regression model\n",
    "model_lr_math = LinearRegression()\n",
    "\n",
    "# Fit the model on training data\n",
    "model_lr_math.fit(X_train_imputed, y_train)\n"
   ]
  },
  {
   "cell_type": "code",
   "execution_count": 42,
   "id": "72024639-eecd-412a-b7a7-24c04a88a8b3",
   "metadata": {},
   "outputs": [
    {
     "name": "stdout",
     "output_type": "stream",
     "text": [
      "Mean Squared Error (MSE): 0.005470748596428069\n",
      "R-squared (R2): 0.994871688862258\n"
     ]
    }
   ],
   "source": [
    "# Predictions on test set\n",
    "y_pred_lr_math = model_lr_math.predict(X_test_imputed)\n",
    "\n",
    "# Model Evaluation\n",
    "mse_lr_math = mean_squared_error(y_test, y_pred_lr_math)\n",
    "r2_lr_math = r2_score(y_test, y_pred_lr_math)\n",
    "\n",
    "# Display evaluation metrics\n",
    "print(f\"Mean Squared Error (MSE): {mse_lr_math}\")\n",
    "print(f\"R-squared (R2): {r2_lr_math}\")\n"
   ]
  },
  {
   "cell_type": "markdown",
   "id": "869e26b5-7d11-4fdb-8319-f4367401d343",
   "metadata": {},
   "source": [
    "Interpretation:\n",
    "High R-squared: The high R-squared score suggests that the model fits the data very well. In your case, nearly 99.49% of the variability in the Average Math Scores can be explained by the features included in your model (ELL_x, White_x, Black_x, Hispanic_x, Low SES_x, Male_x, Female_x, ESE_x).\n",
    "\n",
    "Low MSE: The low MSE indicates that the model's predictions are very close to the actual values of the Average Math Scores, on average. This is a good sign of predictive accuracy."
   ]
  },
  {
   "cell_type": "code",
   "execution_count": 44,
   "id": "c90c0312-a05d-4ba2-bbda-4aacea55adc5",
   "metadata": {},
   "outputs": [
    {
     "name": "stdout",
     "output_type": "stream",
     "text": [
      "Coefficients:\n",
      "ELL_x: -0.01727579132480002\n",
      "White_x: 0.04403115537174673\n",
      "Black_x: 0.0029777161956944325\n",
      "Hispanic_x: 0.010484229253849058\n",
      "Low SES_x: 0.007594566753561007\n",
      "Male_x: 0.5649835131260431\n",
      "Female_x: 0.45790959268088444\n",
      "ESE_x: -0.047040407659109024\n",
      "\n",
      "Intercept: -0.0002660643854997813\n"
     ]
    }
   ],
   "source": [
    "# Coefficients and Intercept\n",
    "coefficients = model_lr_math.coef_\n",
    "intercept = model_lr_math.intercept_\n",
    "\n",
    "# Print coefficients\n",
    "print(\"Coefficients:\")\n",
    "for feature, coef in zip(features_math, coefficients):\n",
    "    print(f\"{feature}: {coef}\")\n",
    "\n",
    "print(f\"\\nIntercept: {intercept}\")\n"
   ]
  },
  {
   "cell_type": "markdown",
   "id": "f44bceb1-1e34-4b50-8bdd-56bc5ad51562",
   "metadata": {},
   "source": [
    "Interpretation:\n",
    "Intercept: The intercept represents the predicted value of the response variable (Average Math Score) when all predictors (features) are zero. In this case, it is very close to zero, indicating that when all predictors are at their mean values, the predicted Average Math Score is very close to zero.\n",
    "\n",
    "Coefficients: Each coefficient represents the change in the Average Math Score for a one-unit change in the corresponding predictor, holding all other predictors constant.\n",
    "\n",
    "Male_x and Female_x coefficients (0.565 and 0.458, respectively) suggest that being male has a slightly higher positive influence on the predicted Average Math Score compared to being female.\n",
    "White_x (0.0440) and Hispanic_x (0.0105) coefficients indicate positive influences, suggesting that higher proportions of White and Hispanic students correlate with higher Average Math Scores.\n",
    "ELL_x (-0.0173), ESE_x (-0.0470), Low SES_x (0.00759), and Black_x (0.00298) have smaller coefficients, suggesting their impact on Average Math Scores is less pronounced or potentially negative."
   ]
  },
  {
   "cell_type": "markdown",
   "id": "aedb857d-f083-4fb6-8765-5651428a2769",
   "metadata": {},
   "source": [
    "## Random Forest Model for Average Math Score"
   ]
  },
  {
   "cell_type": "code",
   "execution_count": 70,
   "id": "13ee7ad1-3efc-4ef8-a05e-0d546e404cf0",
   "metadata": {},
   "outputs": [
    {
     "data": {
      "text/html": [
       "<style>#sk-container-id-4 {color: black;background-color: white;}#sk-container-id-4 pre{padding: 0;}#sk-container-id-4 div.sk-toggleable {background-color: white;}#sk-container-id-4 label.sk-toggleable__label {cursor: pointer;display: block;width: 100%;margin-bottom: 0;padding: 0.3em;box-sizing: border-box;text-align: center;}#sk-container-id-4 label.sk-toggleable__label-arrow:before {content: \"▸\";float: left;margin-right: 0.25em;color: #696969;}#sk-container-id-4 label.sk-toggleable__label-arrow:hover:before {color: black;}#sk-container-id-4 div.sk-estimator:hover label.sk-toggleable__label-arrow:before {color: black;}#sk-container-id-4 div.sk-toggleable__content {max-height: 0;max-width: 0;overflow: hidden;text-align: left;background-color: #f0f8ff;}#sk-container-id-4 div.sk-toggleable__content pre {margin: 0.2em;color: black;border-radius: 0.25em;background-color: #f0f8ff;}#sk-container-id-4 input.sk-toggleable__control:checked~div.sk-toggleable__content {max-height: 200px;max-width: 100%;overflow: auto;}#sk-container-id-4 input.sk-toggleable__control:checked~label.sk-toggleable__label-arrow:before {content: \"▾\";}#sk-container-id-4 div.sk-estimator input.sk-toggleable__control:checked~label.sk-toggleable__label {background-color: #d4ebff;}#sk-container-id-4 div.sk-label input.sk-toggleable__control:checked~label.sk-toggleable__label {background-color: #d4ebff;}#sk-container-id-4 input.sk-hidden--visually {border: 0;clip: rect(1px 1px 1px 1px);clip: rect(1px, 1px, 1px, 1px);height: 1px;margin: -1px;overflow: hidden;padding: 0;position: absolute;width: 1px;}#sk-container-id-4 div.sk-estimator {font-family: monospace;background-color: #f0f8ff;border: 1px dotted black;border-radius: 0.25em;box-sizing: border-box;margin-bottom: 0.5em;}#sk-container-id-4 div.sk-estimator:hover {background-color: #d4ebff;}#sk-container-id-4 div.sk-parallel-item::after {content: \"\";width: 100%;border-bottom: 1px solid gray;flex-grow: 1;}#sk-container-id-4 div.sk-label:hover label.sk-toggleable__label {background-color: #d4ebff;}#sk-container-id-4 div.sk-serial::before {content: \"\";position: absolute;border-left: 1px solid gray;box-sizing: border-box;top: 0;bottom: 0;left: 50%;z-index: 0;}#sk-container-id-4 div.sk-serial {display: flex;flex-direction: column;align-items: center;background-color: white;padding-right: 0.2em;padding-left: 0.2em;position: relative;}#sk-container-id-4 div.sk-item {position: relative;z-index: 1;}#sk-container-id-4 div.sk-parallel {display: flex;align-items: stretch;justify-content: center;background-color: white;position: relative;}#sk-container-id-4 div.sk-item::before, #sk-container-id-4 div.sk-parallel-item::before {content: \"\";position: absolute;border-left: 1px solid gray;box-sizing: border-box;top: 0;bottom: 0;left: 50%;z-index: -1;}#sk-container-id-4 div.sk-parallel-item {display: flex;flex-direction: column;z-index: 1;position: relative;background-color: white;}#sk-container-id-4 div.sk-parallel-item:first-child::after {align-self: flex-end;width: 50%;}#sk-container-id-4 div.sk-parallel-item:last-child::after {align-self: flex-start;width: 50%;}#sk-container-id-4 div.sk-parallel-item:only-child::after {width: 0;}#sk-container-id-4 div.sk-dashed-wrapped {border: 1px dashed gray;margin: 0 0.4em 0.5em 0.4em;box-sizing: border-box;padding-bottom: 0.4em;background-color: white;}#sk-container-id-4 div.sk-label label {font-family: monospace;font-weight: bold;display: inline-block;line-height: 1.2em;}#sk-container-id-4 div.sk-label-container {text-align: center;}#sk-container-id-4 div.sk-container {/* jupyter's `normalize.less` sets `[hidden] { display: none; }` but bootstrap.min.css set `[hidden] { display: none !important; }` so we also need the `!important` here to be able to override the default hidden behavior on the sphinx rendered scikit-learn.org. See: https://github.com/scikit-learn/scikit-learn/issues/21755 */display: inline-block !important;position: relative;}#sk-container-id-4 div.sk-text-repr-fallback {display: none;}</style><div id=\"sk-container-id-4\" class=\"sk-top-container\"><div class=\"sk-text-repr-fallback\"><pre>RandomForestRegressor(random_state=42)</pre><b>In a Jupyter environment, please rerun this cell to show the HTML representation or trust the notebook. <br />On GitHub, the HTML representation is unable to render, please try loading this page with nbviewer.org.</b></div><div class=\"sk-container\" hidden><div class=\"sk-item\"><div class=\"sk-estimator sk-toggleable\"><input class=\"sk-toggleable__control sk-hidden--visually\" id=\"sk-estimator-id-4\" type=\"checkbox\" checked><label for=\"sk-estimator-id-4\" class=\"sk-toggleable__label sk-toggleable__label-arrow\">RandomForestRegressor</label><div class=\"sk-toggleable__content\"><pre>RandomForestRegressor(random_state=42)</pre></div></div></div></div></div>"
      ],
      "text/plain": [
       "RandomForestRegressor(random_state=42)"
      ]
     },
     "execution_count": 70,
     "metadata": {},
     "output_type": "execute_result"
    }
   ],
   "source": [
    "# Import necessary libraries\n",
    "from sklearn.ensemble import RandomForestRegressor\n",
    "from sklearn.metrics import mean_squared_error, r2_score\n",
    "\n",
    "# Instantiate the Random Forest model\n",
    "rf_model_math = RandomForestRegressor(random_state=42)\n",
    "\n",
    "# Fit the model on the training data\n",
    "rf_model_math.fit(X_train, y_train)\n"
   ]
  },
  {
   "cell_type": "code",
   "execution_count": 72,
   "id": "bee7ef1f-7bc9-4f1f-9442-38ddfa9fc28e",
   "metadata": {},
   "outputs": [
    {
     "name": "stdout",
     "output_type": "stream",
     "text": [
      "Mean Squared Error (MSE): 0.12959383614148134\n",
      "R-squared (R2): 0.8785179941002947\n",
      "\n",
      "Feature Importance:\n",
      "      Feature  Importance\n",
      "0       ELL_x    0.004168\n",
      "1     White_x    0.020458\n",
      "2     Black_x    0.005471\n",
      "3  Hispanic_x    0.006912\n",
      "4   Low SES_x    0.003666\n",
      "5      Male_x    0.316252\n",
      "6    Female_x    0.616206\n",
      "7       ESE_x    0.026868\n"
     ]
    }
   ],
   "source": [
    "\n",
    "# Predictions on the test data\n",
    "y_pred_rf_math = rf_model_math.predict(X_test)\n",
    "\n",
    "# Model Evaluation\n",
    "mse_rf_math = mean_squared_error(y_test, y_pred_rf_math)\n",
    "r2_rf_math = r2_score(y_test, y_pred_rf_math)\n",
    "\n",
    "# Display evaluation metrics\n",
    "print(f\"Mean Squared Error (MSE): {mse_rf_math}\")\n",
    "print(f\"R-squared (R2): {r2_rf_math}\")\n",
    "\n",
    "# Feature importance\n",
    "feature_importance_rf = rf_model_math.feature_importances_\n",
    "feature_importance_df_rf = pd.DataFrame({'Feature': features_math, 'Importance': feature_importance_rf})\n",
    "print(\"\\nFeature Importance:\")\n",
    "print(feature_importance_df_rf)\n"
   ]
  },
  {
   "cell_type": "markdown",
   "id": "6eca219d-abd6-4b2c-9ed0-ccc9229c2f1e",
   "metadata": {},
   "source": [
    "Interpretation:\n",
    "Female_x and Male_x are the most influential features in predicting Average Math Scores according to the Random Forest model.\n",
    "ESE_x (presumably a variable related to English as a Second Language) also shows some importance in predictions.\n",
    "Race/Ethnicity variables (White_x, Hispanic_x, Black_x, ELL_x) and Low SES_x have relatively lower importance in this model."
   ]
  },
  {
   "cell_type": "markdown",
   "id": "4da57e9c-efbc-4c68-86d7-45df54070ebc",
   "metadata": {},
   "source": [
    "## Linear Regression Model for Math Scores"
   ]
  },
  {
   "cell_type": "code",
   "execution_count": 58,
   "id": "9417ac3c-b3b1-4504-9acd-95c4fe9c6f84",
   "metadata": {},
   "outputs": [
    {
     "data": {
      "text/html": [
       "<style>#sk-container-id-2 {color: black;background-color: white;}#sk-container-id-2 pre{padding: 0;}#sk-container-id-2 div.sk-toggleable {background-color: white;}#sk-container-id-2 label.sk-toggleable__label {cursor: pointer;display: block;width: 100%;margin-bottom: 0;padding: 0.3em;box-sizing: border-box;text-align: center;}#sk-container-id-2 label.sk-toggleable__label-arrow:before {content: \"▸\";float: left;margin-right: 0.25em;color: #696969;}#sk-container-id-2 label.sk-toggleable__label-arrow:hover:before {color: black;}#sk-container-id-2 div.sk-estimator:hover label.sk-toggleable__label-arrow:before {color: black;}#sk-container-id-2 div.sk-toggleable__content {max-height: 0;max-width: 0;overflow: hidden;text-align: left;background-color: #f0f8ff;}#sk-container-id-2 div.sk-toggleable__content pre {margin: 0.2em;color: black;border-radius: 0.25em;background-color: #f0f8ff;}#sk-container-id-2 input.sk-toggleable__control:checked~div.sk-toggleable__content {max-height: 200px;max-width: 100%;overflow: auto;}#sk-container-id-2 input.sk-toggleable__control:checked~label.sk-toggleable__label-arrow:before {content: \"▾\";}#sk-container-id-2 div.sk-estimator input.sk-toggleable__control:checked~label.sk-toggleable__label {background-color: #d4ebff;}#sk-container-id-2 div.sk-label input.sk-toggleable__control:checked~label.sk-toggleable__label {background-color: #d4ebff;}#sk-container-id-2 input.sk-hidden--visually {border: 0;clip: rect(1px 1px 1px 1px);clip: rect(1px, 1px, 1px, 1px);height: 1px;margin: -1px;overflow: hidden;padding: 0;position: absolute;width: 1px;}#sk-container-id-2 div.sk-estimator {font-family: monospace;background-color: #f0f8ff;border: 1px dotted black;border-radius: 0.25em;box-sizing: border-box;margin-bottom: 0.5em;}#sk-container-id-2 div.sk-estimator:hover {background-color: #d4ebff;}#sk-container-id-2 div.sk-parallel-item::after {content: \"\";width: 100%;border-bottom: 1px solid gray;flex-grow: 1;}#sk-container-id-2 div.sk-label:hover label.sk-toggleable__label {background-color: #d4ebff;}#sk-container-id-2 div.sk-serial::before {content: \"\";position: absolute;border-left: 1px solid gray;box-sizing: border-box;top: 0;bottom: 0;left: 50%;z-index: 0;}#sk-container-id-2 div.sk-serial {display: flex;flex-direction: column;align-items: center;background-color: white;padding-right: 0.2em;padding-left: 0.2em;position: relative;}#sk-container-id-2 div.sk-item {position: relative;z-index: 1;}#sk-container-id-2 div.sk-parallel {display: flex;align-items: stretch;justify-content: center;background-color: white;position: relative;}#sk-container-id-2 div.sk-item::before, #sk-container-id-2 div.sk-parallel-item::before {content: \"\";position: absolute;border-left: 1px solid gray;box-sizing: border-box;top: 0;bottom: 0;left: 50%;z-index: -1;}#sk-container-id-2 div.sk-parallel-item {display: flex;flex-direction: column;z-index: 1;position: relative;background-color: white;}#sk-container-id-2 div.sk-parallel-item:first-child::after {align-self: flex-end;width: 50%;}#sk-container-id-2 div.sk-parallel-item:last-child::after {align-self: flex-start;width: 50%;}#sk-container-id-2 div.sk-parallel-item:only-child::after {width: 0;}#sk-container-id-2 div.sk-dashed-wrapped {border: 1px dashed gray;margin: 0 0.4em 0.5em 0.4em;box-sizing: border-box;padding-bottom: 0.4em;background-color: white;}#sk-container-id-2 div.sk-label label {font-family: monospace;font-weight: bold;display: inline-block;line-height: 1.2em;}#sk-container-id-2 div.sk-label-container {text-align: center;}#sk-container-id-2 div.sk-container {/* jupyter's `normalize.less` sets `[hidden] { display: none; }` but bootstrap.min.css set `[hidden] { display: none !important; }` so we also need the `!important` here to be able to override the default hidden behavior on the sphinx rendered scikit-learn.org. See: https://github.com/scikit-learn/scikit-learn/issues/21755 */display: inline-block !important;position: relative;}#sk-container-id-2 div.sk-text-repr-fallback {display: none;}</style><div id=\"sk-container-id-2\" class=\"sk-top-container\"><div class=\"sk-text-repr-fallback\"><pre>LinearRegression()</pre><b>In a Jupyter environment, please rerun this cell to show the HTML representation or trust the notebook. <br />On GitHub, the HTML representation is unable to render, please try loading this page with nbviewer.org.</b></div><div class=\"sk-container\" hidden><div class=\"sk-item\"><div class=\"sk-estimator sk-toggleable\"><input class=\"sk-toggleable__control sk-hidden--visually\" id=\"sk-estimator-id-2\" type=\"checkbox\" checked><label for=\"sk-estimator-id-2\" class=\"sk-toggleable__label sk-toggleable__label-arrow\">LinearRegression</label><div class=\"sk-toggleable__content\"><pre>LinearRegression()</pre></div></div></div></div></div>"
      ],
      "text/plain": [
       "LinearRegression()"
      ]
     },
     "execution_count": 58,
     "metadata": {},
     "output_type": "execute_result"
    }
   ],
   "source": [
    "# Initialize the Linear Regression model\n",
    "model_lr_reading = LinearRegression()\n",
    "\n",
    "# Fit the model on the training data\n",
    "model_lr_reading.fit(X_train_reading, y_train_reading)\n"
   ]
  },
  {
   "cell_type": "code",
   "execution_count": 60,
   "id": "edcacaa2-e387-4da7-9fb3-10ca4668161a",
   "metadata": {},
   "outputs": [
    {
     "name": "stdout",
     "output_type": "stream",
     "text": [
      "Mean Squared Error (MSE): 0.005623186585414267\n",
      "R-squared (R2): 0.9940895721535418\n"
     ]
    }
   ],
   "source": [
    "# Predictions on the test set\n",
    "y_pred_lr_reading = model_lr_reading.predict(X_test_reading)\n",
    "\n",
    "# Model Evaluation\n",
    "mse_lr_reading = mean_squared_error(y_test_reading, y_pred_lr_reading)\n",
    "r2_lr_reading = r2_score(y_test_reading, y_pred_lr_reading)\n",
    "\n",
    "# Display evaluation metrics\n",
    "print(f\"Mean Squared Error (MSE): {mse_lr_reading}\")\n",
    "print(f\"R-squared (R2): {r2_lr_reading}\")\n"
   ]
  },
  {
   "cell_type": "markdown",
   "id": "f3b47f01-7650-43c9-8b82-2ead286b4be0",
   "metadata": {},
   "source": [
    "These metrics indicate that the model explains approximately 99.41% of the variance in the test data, and the MSE is quite low, suggesting that the predictions are close to the actual values."
   ]
  },
  {
   "cell_type": "code",
   "execution_count": 63,
   "id": "3f8260fe-172b-4644-a28d-0a3b74299509",
   "metadata": {},
   "outputs": [
    {
     "name": "stdout",
     "output_type": "stream",
     "text": [
      "Coefficients:\n",
      "ELL_y: 0.004041012163610265\n",
      "White_y: -0.009481831238352029\n",
      "Black_y: -0.005019154345846569\n",
      "Hispanic_y: 0.02133711282375736\n",
      "Low SES_y: 0.00014467703282548228\n",
      "Male_y: 0.5578185703784504\n",
      "Female_y: 0.4950823619796862\n",
      "ESE_y: -0.005328220608045623\n",
      "\n",
      "Intercept: -0.00021592243631324975\n"
     ]
    }
   ],
   "source": [
    "# Coefficients and Intercept\n",
    "coefficients = model_lr_reading.coef_\n",
    "intercept = model_lr_reading.intercept_\n",
    "\n",
    "# Display coefficients and intercept\n",
    "print(\"Coefficients:\")\n",
    "for feature, coef in zip(features_reading, coefficients):\n",
    "    print(f\"{feature}: {coef}\")\n",
    "\n",
    "print(f\"\\nIntercept: {intercept}\")\n"
   ]
  },
  {
   "cell_type": "markdown",
   "id": "2f71a6f5-4111-4932-8998-d1fe05e0932b",
   "metadata": {},
   "source": [
    "These coefficients indicate the contribution of each feature to predicting the average reading scores. For instance, Female students tend to have a slightly higher impact on reading scores compared to Male students, as indicated by their coefficients. The intercept represents the expected average reading score when all predictor variables are zero."
   ]
  },
  {
   "cell_type": "markdown",
   "id": "379647f4-6acb-4d45-8308-f5472fb467c9",
   "metadata": {},
   "source": [
    "## Random Forest Model for Reading Scores"
   ]
  },
  {
   "cell_type": "code",
   "execution_count": 68,
   "id": "49ef878d-15a8-4dd9-be37-e7789cb1ca55",
   "metadata": {},
   "outputs": [
    {
     "data": {
      "text/html": [
       "<style>#sk-container-id-3 {color: black;background-color: white;}#sk-container-id-3 pre{padding: 0;}#sk-container-id-3 div.sk-toggleable {background-color: white;}#sk-container-id-3 label.sk-toggleable__label {cursor: pointer;display: block;width: 100%;margin-bottom: 0;padding: 0.3em;box-sizing: border-box;text-align: center;}#sk-container-id-3 label.sk-toggleable__label-arrow:before {content: \"▸\";float: left;margin-right: 0.25em;color: #696969;}#sk-container-id-3 label.sk-toggleable__label-arrow:hover:before {color: black;}#sk-container-id-3 div.sk-estimator:hover label.sk-toggleable__label-arrow:before {color: black;}#sk-container-id-3 div.sk-toggleable__content {max-height: 0;max-width: 0;overflow: hidden;text-align: left;background-color: #f0f8ff;}#sk-container-id-3 div.sk-toggleable__content pre {margin: 0.2em;color: black;border-radius: 0.25em;background-color: #f0f8ff;}#sk-container-id-3 input.sk-toggleable__control:checked~div.sk-toggleable__content {max-height: 200px;max-width: 100%;overflow: auto;}#sk-container-id-3 input.sk-toggleable__control:checked~label.sk-toggleable__label-arrow:before {content: \"▾\";}#sk-container-id-3 div.sk-estimator input.sk-toggleable__control:checked~label.sk-toggleable__label {background-color: #d4ebff;}#sk-container-id-3 div.sk-label input.sk-toggleable__control:checked~label.sk-toggleable__label {background-color: #d4ebff;}#sk-container-id-3 input.sk-hidden--visually {border: 0;clip: rect(1px 1px 1px 1px);clip: rect(1px, 1px, 1px, 1px);height: 1px;margin: -1px;overflow: hidden;padding: 0;position: absolute;width: 1px;}#sk-container-id-3 div.sk-estimator {font-family: monospace;background-color: #f0f8ff;border: 1px dotted black;border-radius: 0.25em;box-sizing: border-box;margin-bottom: 0.5em;}#sk-container-id-3 div.sk-estimator:hover {background-color: #d4ebff;}#sk-container-id-3 div.sk-parallel-item::after {content: \"\";width: 100%;border-bottom: 1px solid gray;flex-grow: 1;}#sk-container-id-3 div.sk-label:hover label.sk-toggleable__label {background-color: #d4ebff;}#sk-container-id-3 div.sk-serial::before {content: \"\";position: absolute;border-left: 1px solid gray;box-sizing: border-box;top: 0;bottom: 0;left: 50%;z-index: 0;}#sk-container-id-3 div.sk-serial {display: flex;flex-direction: column;align-items: center;background-color: white;padding-right: 0.2em;padding-left: 0.2em;position: relative;}#sk-container-id-3 div.sk-item {position: relative;z-index: 1;}#sk-container-id-3 div.sk-parallel {display: flex;align-items: stretch;justify-content: center;background-color: white;position: relative;}#sk-container-id-3 div.sk-item::before, #sk-container-id-3 div.sk-parallel-item::before {content: \"\";position: absolute;border-left: 1px solid gray;box-sizing: border-box;top: 0;bottom: 0;left: 50%;z-index: -1;}#sk-container-id-3 div.sk-parallel-item {display: flex;flex-direction: column;z-index: 1;position: relative;background-color: white;}#sk-container-id-3 div.sk-parallel-item:first-child::after {align-self: flex-end;width: 50%;}#sk-container-id-3 div.sk-parallel-item:last-child::after {align-self: flex-start;width: 50%;}#sk-container-id-3 div.sk-parallel-item:only-child::after {width: 0;}#sk-container-id-3 div.sk-dashed-wrapped {border: 1px dashed gray;margin: 0 0.4em 0.5em 0.4em;box-sizing: border-box;padding-bottom: 0.4em;background-color: white;}#sk-container-id-3 div.sk-label label {font-family: monospace;font-weight: bold;display: inline-block;line-height: 1.2em;}#sk-container-id-3 div.sk-label-container {text-align: center;}#sk-container-id-3 div.sk-container {/* jupyter's `normalize.less` sets `[hidden] { display: none; }` but bootstrap.min.css set `[hidden] { display: none !important; }` so we also need the `!important` here to be able to override the default hidden behavior on the sphinx rendered scikit-learn.org. See: https://github.com/scikit-learn/scikit-learn/issues/21755 */display: inline-block !important;position: relative;}#sk-container-id-3 div.sk-text-repr-fallback {display: none;}</style><div id=\"sk-container-id-3\" class=\"sk-top-container\"><div class=\"sk-text-repr-fallback\"><pre>RandomForestRegressor(random_state=42)</pre><b>In a Jupyter environment, please rerun this cell to show the HTML representation or trust the notebook. <br />On GitHub, the HTML representation is unable to render, please try loading this page with nbviewer.org.</b></div><div class=\"sk-container\" hidden><div class=\"sk-item\"><div class=\"sk-estimator sk-toggleable\"><input class=\"sk-toggleable__control sk-hidden--visually\" id=\"sk-estimator-id-3\" type=\"checkbox\" checked><label for=\"sk-estimator-id-3\" class=\"sk-toggleable__label sk-toggleable__label-arrow\">RandomForestRegressor</label><div class=\"sk-toggleable__content\"><pre>RandomForestRegressor(random_state=42)</pre></div></div></div></div></div>"
      ],
      "text/plain": [
       "RandomForestRegressor(random_state=42)"
      ]
     },
     "execution_count": 68,
     "metadata": {},
     "output_type": "execute_result"
    }
   ],
   "source": [
    "# Initialize Random Forest Regressor\n",
    "rf_regressor = RandomForestRegressor(random_state=42)\n",
    "\n",
    "# Fit the model to the training data\n",
    "rf_regressor.fit(X_train_reading, y_train_reading)\n"
   ]
  },
  {
   "cell_type": "code",
   "execution_count": 74,
   "id": "9629fe0d-9d65-4f19-9a4a-779bbc220c7c",
   "metadata": {},
   "outputs": [
    {
     "name": "stdout",
     "output_type": "stream",
     "text": [
      "Mean Squared Error (MSE): 0.09839952503050198\n",
      "R-squared (R2): 0.8965740716612376\n"
     ]
    }
   ],
   "source": [
    "# Predict using the trained model\n",
    "y_pred_rf_reading = rf_regressor.predict(X_test_reading)\n",
    "\n",
    "# Calculate Mean Squared Error (MSE) and R-squared (R2)\n",
    "mse_rf_reading = mean_squared_error(y_test_reading, y_pred_rf_reading)\n",
    "r2_rf_reading = r2_score(y_test_reading, y_pred_rf_reading)\n",
    "\n",
    "# Print the evaluation metrics\n",
    "print(f\"Mean Squared Error (MSE): {mse_rf_reading}\")\n",
    "print(f\"R-squared (R2): {r2_rf_reading}\")\n"
   ]
  },
  {
   "cell_type": "code",
   "execution_count": 76,
   "id": "67670aca-3b54-463a-a132-70acb8f45934",
   "metadata": {},
   "outputs": [
    {
     "name": "stdout",
     "output_type": "stream",
     "text": [
      "Feature Importance:\n",
      "      Feature  Importance\n",
      "6    Female_y    0.475039\n",
      "5      Male_y    0.395857\n",
      "7       ESE_y    0.043538\n",
      "4   Low SES_y    0.040492\n",
      "1     White_y    0.016553\n",
      "3  Hispanic_y    0.016067\n",
      "2     Black_y    0.006620\n",
      "0       ELL_y    0.005833\n"
     ]
    }
   ],
   "source": [
    "# Extract feature importance from the model\n",
    "feature_importance_rf = pd.DataFrame({\n",
    "    'Feature': features_reading,\n",
    "    'Importance': rf_regressor.feature_importances_\n",
    "})\n",
    "\n",
    "# Sort features by importance\n",
    "feature_importance_rf = feature_importance_rf.sort_values(by='Importance', ascending=False)\n",
    "\n",
    "# Print feature importance\n",
    "print(\"Feature Importance:\")\n",
    "print(feature_importance_rf)\n"
   ]
  },
  {
   "cell_type": "markdown",
   "id": "ca836a9d-b1a7-4753-a6bb-c61be7f79c42",
   "metadata": {},
   "source": [
    "Interpretation:\n",
    "* Female_y and Male_y are the most influential features, indicating that gender plays a significant role in predicting reading scores.\n",
    "* ESE_y (English as a Second Language) and Low SES_y (Low Socioeconomic Status) also contribute to the model's predictions, albeit to a lesser extent compared to gender.\n",
    "* Race/Ethnicity variables (White_y, Hispanic_y, Black_y, ELL_y) have relatively lower importance in this model compared to gender and socio-economic factors.\n",
    "\n",
    "Conclusion\n",
    "* The Random Forest model demonstrates strong predictive performance for Average Reading Scores, with an R-squared value of approximately 0.897, indicating that the model explains 89.66% of the variance in the target variable. The feature importance analysis underscores the significant role of gender and socio-economic factors in predicting reading scores, providing valuable insights for further analysis or interventions aimed at improving educational outcomes.\n",
    "\n"
   ]
  },
  {
   "cell_type": "markdown",
   "id": "4b1849d3-1cc1-4880-a683-63f3274cf5c6",
   "metadata": {},
   "source": [
    "### Comparative Analysis\n",
    "\n",
    "**Performance Metrics:**\n",
    "* The Linear Regression model has a significantly lower MSE (0.0055) compared to the Random Forest model (0.1296). This indicates that the Linear Regression model provides better accuracy in predicting Average Math Scores.\n",
    "* The R-squared (R2) value for the Linear Regression model (0.9949) is also higher than that of the Random Forest model (0.8785), suggesting that the Linear Regression model explains more variance in the data.\n",
    "\n",
    "**Feature Importance:**\n",
    "* In the Random Forest model, Male_x and Female_x are identified as the most important features, indicating gender plays a crucial role in predicting math scores.\n",
    "* In contrast, the Linear Regression model coefficients provide direct insights into the direction and strength of relationships between each feature and the target variable.\n",
    "\n",
    "**Interpretation:**\n",
    "* The Linear Regression model emphasizes the linear relationships between features and the target variable, providing straightforward coefficients for interpretation.\n",
    "* The Random Forest model captures non-linear relationships and interactions among features, which can be beneficial for complex datasets but may lack the interpretability of individual feature effects."
   ]
  },
  {
   "cell_type": "code",
   "execution_count": null,
   "id": "bbde4420-7371-4e84-a45a-afa87808c342",
   "metadata": {},
   "outputs": [],
   "source": []
  }
 ],
 "metadata": {
  "kernelspec": {
   "display_name": "Python 3 (ipykernel)",
   "language": "python",
   "name": "python3"
  },
  "language_info": {
   "codemirror_mode": {
    "name": "ipython",
    "version": 3
   },
   "file_extension": ".py",
   "mimetype": "text/x-python",
   "name": "python",
   "nbconvert_exporter": "python",
   "pygments_lexer": "ipython3",
   "version": "3.11.8"
  }
 },
 "nbformat": 4,
 "nbformat_minor": 5
}
